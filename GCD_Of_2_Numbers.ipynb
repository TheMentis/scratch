{
  "nbformat": 4,
  "nbformat_minor": 0,
  "metadata": {
    "colab": {
      "name": "GCD Of 2 Numbers.ipynb",
      "provenance": [],
      "include_colab_link": true
    },
    "kernelspec": {
      "name": "python3",
      "display_name": "Python 3"
    }
  },
  "cells": [
    {
      "cell_type": "markdown",
      "metadata": {
        "id": "view-in-github",
        "colab_type": "text"
      },
      "source": [
        "<a href=\"https://colab.research.google.com/github/TheMentis/mypython/blob/master/GCD_Of_2_Numbers.ipynb\" target=\"_parent\"><img src=\"https://colab.research.google.com/assets/colab-badge.svg\" alt=\"Open In Colab\"/></a>"
      ]
    },
    {
      "cell_type": "code",
      "metadata": {
        "id": "7Mp2oJ_3sHtu",
        "colab_type": "code",
        "colab": {
          "base_uri": "https://localhost:8080/",
          "height": 34
        },
        "outputId": "edfc3b33-66b7-46f0-e9eb-cef7726b917f"
      },
      "source": [
        "\"\"\"\n",
        "strategy thing:\n",
        "1. take the smaller num (put it in variable)\n",
        "2. use for loop (range) and store gcd in var\n",
        "3. return var\n",
        "\"\"\"\n",
        "\n",
        "\n",
        "def greatestCommonDivisor(num1, num2):\n",
        "  #finding smaller num because duh\n",
        "  if num1 > num2:\n",
        "    smaller_num = num2\n",
        "  else:\n",
        "    smaller_num = num1\n",
        "  for i in range(1, smaller_num + 1, 1):\n",
        "    if num1 % i == 0 and num2 % i == 0:\n",
        "      gcd = i\n",
        "      \n",
        "  return(gcd)\n",
        "\n",
        "greatestCommonDivisor(25, 30)\n",
        "\n"
      ],
      "execution_count": 5,
      "outputs": [
        {
          "output_type": "execute_result",
          "data": {
            "text/plain": [
              "5"
            ]
          },
          "metadata": {
            "tags": []
          },
          "execution_count": 5
        }
      ]
    }
  ]
}