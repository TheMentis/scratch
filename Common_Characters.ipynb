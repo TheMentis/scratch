{
  "nbformat": 4,
  "nbformat_minor": 0,
  "metadata": {
    "colab": {
      "name": "Common Characters.ipynb",
      "provenance": [],
      "include_colab_link": true
    },
    "kernelspec": {
      "name": "python3",
      "display_name": "Python 3"
    }
  },
  "cells": [
    {
      "cell_type": "markdown",
      "metadata": {
        "id": "view-in-github",
        "colab_type": "text"
      },
      "source": [
        "<a href=\"https://colab.research.google.com/github/TheMentis/scratch/blob/master/Common_Characters.ipynb\" target=\"_parent\"><img src=\"https://colab.research.google.com/assets/colab-badge.svg\" alt=\"Open In Colab\"/></a>"
      ]
    },
    {
      "cell_type": "code",
      "metadata": {
        "id": "50SzV-peFRvx",
        "colab_type": "code",
        "colab": {}
      },
      "source": [
        "# STRATEGY:\n",
        "# step one: take first letter of first word and compare to each letter in second word\n",
        "# step two: if letters are same, put in variable\n",
        "# step three: continue"
      ],
      "execution_count": 0,
      "outputs": []
    },
    {
      "cell_type": "code",
      "metadata": {
        "id": "auH9hpk0F2t8",
        "colab_type": "code",
        "outputId": "ddc3320e-d314-4776-885d-849f3075462c",
        "colab": {
          "base_uri": "https://localhost:8080/",
          "height": 34
        }
      },
      "source": [
        "\n",
        "def commonChar(string1, string2):\n",
        "  common_char = \"\"\n",
        "  thing = 0\n",
        "  for u in string1:\n",
        "    for x in string2:\n",
        "      if x == u:\n",
        "        common_char += x\n",
        "\n",
        "  return(common_char)\n",
        "\n",
        "commonChar(\"Cookie\", \"Ariel\")\n"
      ],
      "execution_count": 0,
      "outputs": [
        {
          "output_type": "execute_result",
          "data": {
            "text/plain": [
              "'ie'"
            ]
          },
          "metadata": {
            "tags": []
          },
          "execution_count": 31
        }
      ]
    },
    {
      "cell_type": "code",
      "metadata": {
        "id": "tCRtHPuMJtDv",
        "colab_type": "code",
        "outputId": "204abaa8-0cb8-40ea-be2c-fa4aa5dda527",
        "colab": {
          "base_uri": "https://localhost:8080/",
          "height": 34
        }
      },
      "source": [
        "input = \"Cookie\"\n",
        "input2 = \"Ariel\"\n",
        "expected_output = \"ie\"\n",
        "\n",
        "if commonChar(input, input2) == expected_output:\n",
        "  print(\"aayyyyy\")\n",
        "else:\n",
        "  print(commonChar(input, input2))"
      ],
      "execution_count": 0,
      "outputs": [
        {
          "output_type": "stream",
          "text": [
            "aayyyyy\n"
          ],
          "name": "stdout"
        }
      ]
    }
  ]
}